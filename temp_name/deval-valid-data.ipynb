{
 "cells": [
  {
   "cell_type": "markdown",
   "id": "b179b0c2-7805-4f0a-8afe-8ead09022abf",
   "metadata": {},
   "source": [
    "In the NASA dataset, the first row of each cycle has both voltage and time values as zero, so we need to delete it. Also, when the voltage data drops to zero, the time continues to count, but we need to reset it. This file addresses the above issues, and the processed data is used for feature extraction."
   ]
  },
  {
   "cell_type": "code",
   "execution_count": 3,
   "id": "3617fd0f-ef2e-4e60-bab9-c7cef8f8a272",
   "metadata": {},
   "outputs": [],
   "source": [
    "import pandas as pd\n",
    "\n",
    "# Load the Excel file\n",
    "file_path = \"./datacsv/battery_discharge_data_all.xlsx\"  # Replace with your path\n",
    "xls = pd.ExcelFile(file_path)\n",
    "\n",
    "# Get all sheet names\n",
    "sheet_names = xls.sheet_names"
   ]
  },
  {
   "cell_type": "code",
   "execution_count": 4,
   "id": "e77b5b97-61f7-410e-9e48-16f72021fc2d",
   "metadata": {},
   "outputs": [],
   "source": [
    "# Define the processing function\n",
    "def process_discharge_sheet(df):\n",
    "    # Clean up column names\n",
    "    df.columns = df.columns.str.strip()\n",
    "    if 'cycle' not in df.columns or 'voltage' not in df.columns:\n",
    "        return df  # Skip sheets without necessary columns\n",
    "    \n",
    "    processed = []\n",
    "    for cycle_id, group in df.groupby('cycle'):\n",
    "        group = group.copy()\n",
    "        \n",
    "        # Delete the first row of each cycle\n",
    "        group = group.iloc[1:]\n",
    "\n",
    "        # If there is a Voltage = 0, truncate the data after that row (keep that row)\n",
    "        zero_voltage_idx = group[group['voltage'] == 0].index\n",
    "        if not zero_voltage_idx.empty:\n",
    "            first_zero_idx = zero_voltage_idx[0]\n",
    "            group = group.loc[:first_zero_idx]\n",
    "\n",
    "        processed.append(group)\n",
    "\n",
    "    return pd.concat(processed, ignore_index=True)"
   ]
  },
  {
   "cell_type": "code",
   "execution_count": 5,
   "id": "2993df19-fb3f-41aa-9404-e0955b15246f",
   "metadata": {},
   "outputs": [
    {
     "name": "stdout",
     "output_type": "stream",
     "text": [
      "B0005_discharge\n",
      "B0006_discharge\n",
      "B0007_discharge\n",
      "B0018_discharge\n",
      "index\n",
      "Processing complete, saved as: ./datacsv/processed_battery_discharge_data.xlsx\n"
     ]
    }
   ],
   "source": [
    "# Process all _discharge sheets\n",
    "processed_sheets = {}\n",
    "for sheet in sheet_names:\n",
    "    print(sheet)\n",
    "    if sheet.endswith('_discharge'):\n",
    "        df = xls.parse(sheet)\n",
    "        processed_df = process_discharge_sheet(df)\n",
    "        processed_sheets[sheet] = processed_df\n",
    "\n",
    "# Save as a new Excel file\n",
    "output_path = \"./datacsv/processed_battery_discharge_data.xlsx\"\n",
    "with pd.ExcelWriter(output_path, engine='openpyxl') as writer:\n",
    "    for sheet_name, df in processed_sheets.items():\n",
    "        df.to_excel(writer, sheet_name=sheet_name, index=False)\n",
    "\n",
    "print(f\"Processing complete, saved as: {output_path}\")"
   ]
  }
 ],
 "metadata": {
  "kernelspec": {
   "display_name": "Python 3 (ipykernel)",
   "language": "python",
   "name": "python3"
  },
  "language_info": {
   "codemirror_mode": {
    "name": "ipython",
    "version": 3
   },
   "file_extension": ".py",
   "mimetype": "text/x-python",
   "name": "python",
   "nbconvert_exporter": "python",
   "pygments_lexer": "ipython3",
   "version": "3.10.15"
  }
 },
 "nbformat": 4,
 "nbformat_minor": 5
}
