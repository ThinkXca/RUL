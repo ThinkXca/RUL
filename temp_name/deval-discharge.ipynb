{
 "cells": [
  {
   "cell_type": "raw",
   "id": "99f77ac1-5629-4c8a-a4c5-314be8d9dc69",
   "metadata": {},
   "source": [
    "This file processes the raw NASA lithium battery data into an Excel format to facilitate data visualization and program management. In the NASA dataset, a battery is considered dead when its capacity falls below 70%. Since only the discharge process contains battery capacity information, only the discharge data is processed."
   ]
  },
  {
   "cell_type": "code",
   "execution_count": 1,
   "id": "e830bfdd-0f8f-4e13-9f89-6f931873067b",
   "metadata": {},
   "outputs": [],
   "source": [
    "import datetime\n",
    "import pandas as pd\n",
    "from scipy.io import loadmat\n",
    "import matplotlib.pyplot as plt\n",
    "import os"
   ]
  },
  {
   "cell_type": "code",
   "execution_count": 2,
   "id": "6082789a-3dc5-4a9c-8692-8b672dba643a",
   "metadata": {},
   "outputs": [],
   "source": [
    "def disch_data(battery):\n",
    "    mat = loadmat(os.path.join(mat_dir, battery + '.mat'))\n",
    "    print(f'[{battery}] Total data in dataset: ', len(mat[battery][0, 0]['cycle'][0]))\n",
    "    c = 0\n",
    "    disdataset = []\n",
    "    capacity_data = []\n",
    "\n",
    "    for i in range(len(mat[battery][0, 0]['cycle'][0])):\n",
    "        row = mat[battery][0, 0]['cycle'][0, i]\n",
    "        if row['type'][0] == 'discharge':\n",
    "            ambient_temperature = row['ambient_temperature'][0][0]\n",
    "            date_time = datetime.datetime(int(row['time'][0][0]),\n",
    "                                          int(row['time'][0][1]),\n",
    "                                          int(row['time'][0][2]),\n",
    "                                          int(row['time'][0][3]),\n",
    "                                          int(row['time'][0][4])) + datetime.timedelta(seconds=int(row['time'][0][5]))\n",
    "            data = row['data']\n",
    "            capacity = data[0][0]['Capacity'][0][0]\n",
    "            for j in range(len(data[0][0]['Voltage_measured'][0])):\n",
    "                voltage_measured = data[0][0]['Voltage_measured'][0][j]\n",
    "                current_measured = data[0][0]['Current_measured'][0][j]\n",
    "                temperature_measured = data[0][0]['Temperature_measured'][0][j]\n",
    "                current_load = data[0][0]['Current_load'][0][j]\n",
    "                voltage_load = data[0][0]['Voltage_load'][0][j]\n",
    "                time = data[0][0]['Time'][0][j]\n",
    "                disdataset.append([c + 1, ambient_temperature, date_time, capacity,\n",
    "                                voltage_measured, current_measured,\n",
    "                                temperature_measured, current_load,\n",
    "                                voltage_load, time])\n",
    "                capacity_data.append([c + 1, ambient_temperature, date_time, capacity])\n",
    "            c += 1\n",
    "    return [pd.DataFrame(data=disdataset,\n",
    "                         columns=['cycle', 'ambient_temperature', 'datetime',\n",
    "                                  'capacity', 'voltage_measured',\n",
    "                                  'current_measured', 'temperature_measured',\n",
    "                                  'current', 'voltage', 'time']),\n",
    "            pd.DataFrame(data=capacity_data,\n",
    "                         columns=['cycle', 'ambient_temperature', 'datetime',\n",
    "                                  'capacity'])]"
   ]
  },
  {
   "cell_type": "code",
   "execution_count": 3,
   "id": "334aee62-6c1c-4bea-a9c0-1061c906b829",
   "metadata": {},
   "outputs": [],
   "source": [
    "mat_dir = './battery_data/'\n",
    "save_path = './datacsv/'\n",
    "os.makedirs(save_path, exist_ok=True)\n",
    "\n",
    "battery_files = [f for f in os.listdir(mat_dir) if f.endswith('.mat')]\n",
    "battery_list = [f.replace('.mat', '') for f in battery_files]\n",
    "excel_save_path = f'{save_path}battery_discharge_data_all.xlsx'\n",
    "writer = pd.ExcelWriter(excel_save_path, engine='xlsxwriter')"
   ]
  },
  {
   "cell_type": "code",
   "execution_count": 4,
   "id": "dc773511-c8e2-41d1-ac3b-e09eeabc73fc",
   "metadata": {},
   "outputs": [
    {
     "name": "stdout",
     "output_type": "stream",
     "text": [
      "\n",
      "Processing Battery: B0005\n",
      "[B0005] Total data in dataset:  616\n",
      "\n",
      "Processing Battery: B0006\n",
      "[B0006] Total data in dataset:  616\n",
      "\n",
      "Processing Battery: B0007\n",
      "[B0007] Total data in dataset:  616\n",
      "\n",
      "Processing Battery: B0018\n",
      "[B0018] Total data in dataset:  319\n",
      "\n",
      "✅ All data has been saved to the Excel file: ./datacsv/battery_discharge_data_all.xlsx\n"
     ]
    }
   ],
   "source": [
    "# Create index records\n",
    "index_data = []\n",
    "\n",
    "# Batch process all batteries\n",
    "for B in battery_list:\n",
    "    print(f\"\\nProcessing Battery: {B}\")\n",
    "    try:\n",
    "        disdf, capacity = disch_data(B)\n",
    "        \n",
    "        # Add survival column\n",
    "        capacity['suvival'] = capacity['capacity'] >= 1.4\n",
    "        \n",
    "        # Write discharge data to a separate sheet in the Excel file\n",
    "        disdf.to_excel(writer, sheet_name=f'{B}_discharge', index=False)\n",
    "        \n",
    "        # Optionally also write the capacity data table\n",
    "        # capacity.to_excel(writer, sheet_name=f'{B}_capacity', index=False)\n",
    "        \n",
    "        # Add to index\n",
    "        index_data.append({'battery_id': B, 'sheet_name': f'{B}_discharge'})\n",
    "        \n",
    "    except Exception as e:\n",
    "        print(f\"⚠️ Error processing {B}: {e}\")\n",
    "\n",
    "# Write the index sheet at the end\n",
    "index_df = pd.DataFrame(index_data)\n",
    "index_df.to_excel(writer, sheet_name='index', index=False)\n",
    "\n",
    "# Save the Excel file\n",
    "writer.close()\n",
    "print(f\"\\n✅ All data has been saved to the Excel file: {excel_save_path}\")\n"
   ]
  },
  {
   "cell_type": "raw",
   "id": "2102c48e-9cfa-46a1-9953-281880cdfc96",
   "metadata": {},
   "source": [
    "The processed NASA raw dataset is saved as an Excel file in ./datascv/battery_discharge_data_all.xlsx. It contains four sheets corresponding to the original four datasets: B0005, B0006, B0007, and B0018. Next, let me take a look at the contents of the B0005 sheet."
   ]
  },
  {
   "cell_type": "code",
   "execution_count": 5,
   "id": "da455950-c181-4265-88fc-45ba23662c5a",
   "metadata": {},
   "outputs": [
    {
     "name": "stdout",
     "output_type": "stream",
     "text": [
      "Available sheets: ['B0005_discharge', 'B0006_discharge', 'B0007_discharge', 'B0018_discharge', 'index']\n",
      "\n",
      "First 5 rows of the B0005 sheet:\n",
      "   cycle  ambient_temperature            datetime  capacity  voltage_measured  \\\n",
      "0      1                   24 2008-04-02 15:25:41  1.856487          4.191492   \n",
      "1      1                   24 2008-04-02 15:25:41  1.856487          4.190749   \n",
      "2      1                   24 2008-04-02 15:25:41  1.856487          3.974871   \n",
      "3      1                   24 2008-04-02 15:25:41  1.856487          3.951717   \n",
      "4      1                   24 2008-04-02 15:25:41  1.856487          3.934352   \n",
      "\n",
      "   current_measured  temperature_measured  current  voltage    time  \n",
      "0         -0.004902             24.330034  -0.0006    0.000   0.000  \n",
      "1         -0.001478             24.325993  -0.0006    4.206  16.781  \n",
      "2         -2.012528             24.389085  -1.9982    3.062  35.703  \n",
      "3         -2.013979             24.544752  -1.9982    3.030  53.781  \n",
      "4         -2.011144             24.731385  -1.9982    3.011  71.922  \n"
     ]
    }
   ],
   "source": [
    "# Corrected file path and specified engine\n",
    "file_path = './datacsv/battery_discharge_data_all.xlsx'  # double-check that this is the correct path\n",
    "\n",
    "# Load the Excel file with specified engine\n",
    "xls = pd.ExcelFile(file_path, engine='openpyxl')\n",
    "\n",
    "# Print all available sheet names\n",
    "print(\"Available sheets:\", xls.sheet_names)\n",
    "\n",
    "# Read the first sheet (assumed to be 'B0005')\n",
    "df = xls.parse(sheet_name=xls.sheet_names[0])\n",
    "\n",
    "# Print the first 5 rows\n",
    "print(\"\\nFirst 5 rows of the B0005 sheet:\")\n",
    "print(df.head())"
   ]
  }
 ],
 "metadata": {
  "kernelspec": {
   "display_name": "Python 3 (ipykernel)",
   "language": "python",
   "name": "python3"
  },
  "language_info": {
   "codemirror_mode": {
    "name": "ipython",
    "version": 3
   },
   "file_extension": ".py",
   "mimetype": "text/x-python",
   "name": "python",
   "nbconvert_exporter": "python",
   "pygments_lexer": "ipython3",
   "version": "3.10.15"
  }
 },
 "nbformat": 4,
 "nbformat_minor": 5
}
