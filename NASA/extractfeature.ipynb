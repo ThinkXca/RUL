{
 "cells": [
  {
   "cell_type": "raw",
   "id": "30442447-5190-455d-83c4-6e5261df0cba",
   "metadata": {},
   "source": [
    "We use the signature method (https://github.com/kormilitzin/the-signature-method-in-machine-learning) to extract features between time and voltage in the NASA dataset, with a signature depth of 3. The extracted features and related information are saved into another Excel file. A battery is considered dead when its capacity falls below 1.4."
   ]
  },
  {
   "cell_type": "code",
   "execution_count": 1,
   "id": "aefea475-8b30-4ac0-98d2-6e37fecd38c0",
   "metadata": {},
   "outputs": [],
   "source": [
    "import pandas as pd\n",
    "import esig.tosig as ts\n",
    "import numpy as np"
   ]
  },
  {
   "cell_type": "code",
   "execution_count": 2,
   "id": "abe53670-8ce0-4c04-aa5e-c822f931f394",
   "metadata": {},
   "outputs": [],
   "source": [
    "file_path = \"./datacsv/processed_battery_discharge_data_filtered.xlsx\"\n",
    "xls = pd.ExcelFile(file_path, engine='openpyxl')"
   ]
  },
  {
   "cell_type": "raw",
   "id": "955e4f2d-6798-4a84-9063-34f710b34d34",
   "metadata": {},
   "source": [
    "If the voltage does not drop to zero and truncation occurs, the event is marked as 0 (censored). If the voltage drops to zero and no truncation occurs, the event is marked as 1 (uncensored)."
   ]
  },
  {
   "cell_type": "code",
   "execution_count": 3,
   "id": "35305b92-b1ae-47ef-a854-f4ba0c6cb060",
   "metadata": {},
   "outputs": [],
   "source": [
    "# Set the signature truncation depth\n",
    "signature_level = 3\n",
    "result_data = []\n",
    "\n",
    "for sheet_name in xls.sheet_names:\n",
    "    df = xls.parse(sheet_name)\n",
    "    if 'cycle' in df.columns and 'time' in df.columns and 'voltage' in df.columns and 'capacity' in df.columns:\n",
    "        for cycle, group in df.groupby('cycle'):\n",
    "            path = group[['time', 'voltage']].to_numpy()\n",
    "            if len(path) < 2:\n",
    "                continue\n",
    "            try:\n",
    "                sig = ts.stream2sig(path, signature_level)\n",
    "            except:\n",
    "                continue\n",
    "            cap = group['capacity'].iloc[0]\n",
    "            last_time = group['time'].iloc[-1] \n",
    "            last_voltage = group['voltage'].iloc[-1]\n",
    "\n",
    "            label = last_voltage == 0  \n",
    "\n",
    "            record = {\n",
    "                'sheet_cycle': f'{sheet_name}_{cycle}',\n",
    "                'capacity': cap,\n",
    "                'event': int(label), \n",
    "                'time': last_time\n",
    "            }\n",
    "            for idx, val in enumerate(sig):\n",
    "                record[f's_{idx}'] = val\n",
    "            result_data.append(record)\n",
    "\n",
    "df_result = pd.DataFrame(result_data)\n",
    "df_result.to_csv(\"./datacsv/battery_signature_features.csv\", index=False)"
   ]
  },
  {
   "cell_type": "code",
   "execution_count": 4,
   "id": "d3d0f037-1126-4b81-b88d-bd4ced3d5ced",
   "metadata": {},
   "outputs": [
    {
     "name": "stdout",
     "output_type": "stream",
     "text": [
      "First 5 rows of the CSV file:\n",
      "         sheet_cycle  capacity  event      time  s_0       s_1    s_2  \\\n",
      "0  B0005_discharge_1  1.856487      0  2513.187  1.0  2496.406 -1.675   \n",
      "1  B0005_discharge_2  1.846327      0  2514.438  1.0  2497.766 -1.676   \n",
      "2  B0005_discharge_3  1.835349      0  2514.734  1.0  2497.937 -1.679   \n",
      "3  B0005_discharge_4  1.835263      0  2515.203  1.0  2498.437 -1.681   \n",
      "4  B0005_discharge_5  1.834646      0  2513.813  1.0  2497.094 -1.680   \n",
      "\n",
      "            s_3         s_4          s_5       s_6           s_7  \\\n",
      "0  3.116021e+06 -482.601060 -3698.878990  1.402813  2.592952e+09   \n",
      "1  3.119417e+06 -470.485739 -3715.770077  1.404488  2.597192e+09   \n",
      "2  3.119845e+06 -473.417370 -3720.618853  1.409521  2.597725e+09   \n",
      "3  3.121094e+06 -475.651763 -3724.220834  1.412881  2.599285e+09   \n",
      "4  3.117739e+06 -475.597514 -3719.520406  1.411200  2.595096e+09   \n",
      "\n",
      "             s_8            s_9       s_10          s_11        s_12  \\\n",
      "0 -350144.612167 -504478.957456  77.224488 -4.364712e+06  653.907799   \n",
      "1 -337147.578059 -500868.126241  74.692060 -4.390128e+06  639.149979   \n",
      "2 -339822.615948 -502921.531821  75.452714 -4.395475e+06  643.962335   \n",
      "3 -342055.520424 -504274.922947  76.005927 -4.400228e+06  647.558759   \n",
      "4 -341429.590910 -504752.516805  76.080927 -4.391620e+06  646.841969   \n",
      "\n",
      "          s_13      s_14  \n",
      "0  2770.857255 -0.783237  \n",
      "1  2794.240335 -0.784641  \n",
      "2  2801.478360 -0.788862  \n",
      "3  2806.428231 -0.791684  \n",
      "4  2800.976157 -0.790272  \n"
     ]
    }
   ],
   "source": [
    "# Corrected file path\n",
    "file_path = './datacsv/battery_signature_features.csv'  # Make sure this path is correct\n",
    "\n",
    "# Load the CSV file\n",
    "df = pd.read_csv(file_path)\n",
    "\n",
    "# Show the first 5 rows\n",
    "print(\"First 5 rows of the CSV file:\")\n",
    "print(df.head())"
   ]
  },
  {
   "cell_type": "code",
   "execution_count": null,
   "id": "acad8174-1b6f-4214-bf10-dcfea38a45b7",
   "metadata": {},
   "outputs": [],
   "source": []
  }
 ],
 "metadata": {
  "kernelspec": {
   "display_name": "Python 3 (ipykernel)",
   "language": "python",
   "name": "python3"
  },
  "language_info": {
   "codemirror_mode": {
    "name": "ipython",
    "version": 3
   },
   "file_extension": ".py",
   "mimetype": "text/x-python",
   "name": "python",
   "nbconvert_exporter": "python",
   "pygments_lexer": "ipython3",
   "version": "3.10.15"
  }
 },
 "nbformat": 4,
 "nbformat_minor": 5
}
