{
 "cells": [
  {
   "cell_type": "raw",
   "id": "30442447-5190-455d-83c4-6e5261df0cba",
   "metadata": {},
   "source": [
    "We use the signature method (https://github.com/kormilitzin/the-signature-method-in-machine-learning) to extract features between time and voltage in the NASA dataset, with a signature depth of 3. The extracted features and related information are saved into another Excel file. A battery is considered dead when its capacity falls below 1.4."
   ]
  },
  {
   "cell_type": "code",
   "execution_count": 4,
   "id": "aefea475-8b30-4ac0-98d2-6e37fecd38c0",
   "metadata": {},
   "outputs": [],
   "source": [
    "import pandas as pd\n",
    "import esig.tosig as ts\n",
    "import numpy as np"
   ]
  },
  {
   "cell_type": "code",
   "execution_count": 5,
   "id": "abe53670-8ce0-4c04-aa5e-c822f931f394",
   "metadata": {},
   "outputs": [],
   "source": [
    "file_path = \"./datacsv/processed_battery_discharge_data.xlsx\"\n",
    "xls = pd.ExcelFile(file_path, engine='openpyxl')"
   ]
  },
  {
   "cell_type": "code",
   "execution_count": 6,
   "id": "35305b92-b1ae-47ef-a854-f4ba0c6cb060",
   "metadata": {},
   "outputs": [],
   "source": [
    "# Set the signature truncation depth\n",
    "signature_level = 3\n",
    "result_data = []\n",
    "\n",
    "for sheet_name in xls.sheet_names:\n",
    "    df = xls.parse(sheet_name)\n",
    "    if 'cycle' in df.columns and 'time' in df.columns and 'voltage' in df.columns and 'capacity' in df.columns:\n",
    "        for cycle, group in df.groupby('cycle'):\n",
    "            path = group[['time', 'voltage']].to_numpy()\n",
    "            if len(path) < 2:\n",
    "                continue\n",
    "            try:\n",
    "                sig = ts.stream2sig(path, signature_level)\n",
    "            except:\n",
    "                continue\n",
    "            cap = group['capacity'].iloc[0]\n",
    "            last_time = group['time'].iloc[-1] \n",
    "            label = int(cap >= 1.4)\n",
    "            record = {\n",
    "                'sheet_cycle': f'{sheet_name}_{cycle}',\n",
    "                'capacity': cap,\n",
    "                'event': label,\n",
    "                'time': last_time  # 添加这一列\n",
    "            }\n",
    "            for idx, val in enumerate(sig):\n",
    "                record[f's_{idx}'] = val\n",
    "            result_data.append(record)\n",
    "\n",
    "df_result = pd.DataFrame(result_data)\n",
    "df_result.to_csv(\"./datacsv/battery_signature_features.csv\", index=False)"
   ]
  },
  {
   "cell_type": "code",
   "execution_count": 9,
   "id": "d3d0f037-1126-4b81-b88d-bd4ced3d5ced",
   "metadata": {},
   "outputs": [
    {
     "name": "stdout",
     "output_type": "stream",
     "text": [
      "First 5 rows of the CSV file:\n",
      "         sheet_cycle  capacity  event      time  s_0       s_1    s_2  \\\n",
      "0  B0005_discharge_1  1.856487      1  3366.781  1.0  3350.000 -4.206   \n",
      "1  B0005_discharge_2  1.846327      1  3368.688  1.0  3352.016 -4.204   \n",
      "2  B0005_discharge_3  1.835349      1  3329.281  1.0  3312.484 -4.203   \n",
      "3  B0005_discharge_4  1.835263      1  3329.500  1.0  3312.734 -4.203   \n",
      "4  B0005_discharge_5  1.834646      1  3327.531  1.0  3310.812 -4.203   \n",
      "\n",
      "            s_3          s_4          s_5       s_6           s_7  \\\n",
      "0  5.611250e+06 -8810.398990 -5279.701011  8.845218  6.265896e+09   \n",
      "1  5.618006e+06 -8746.906560 -5344.968704  8.836808  6.277215e+09   \n",
      "2  5.486275e+06 -8695.656696 -5226.713556  8.832605  6.057733e+09   \n",
      "3  5.487103e+06 -8688.779905 -5234.641097  8.832605  6.059105e+09   \n",
      "4  5.480738e+06 -8684.504525 -5230.838311  8.832605  6.048564e+09   \n",
      "\n",
      "            s_8           s_9          s_10          s_11          s_12  \\\n",
      "0 -1.407010e+07 -1.374633e+06  11695.300655 -8.156182e+06  13665.936839   \n",
      "1 -1.390350e+07 -1.512780e+06  11588.000366 -8.201820e+06  13595.994449   \n",
      "2 -1.374918e+07 -1.305867e+06  11517.205835 -8.003769e+06  13513.433421   \n",
      "3 -1.373240e+07 -1.318816e+06  11500.667892 -8.011079e+06  13517.606157   \n",
      "4 -1.371284e+07 -1.327083e+06  11497.999951 -7.995620e+06  13504.972617   \n",
      "\n",
      "          s_13       s_14  \n",
      "0  4270.242805 -12.400996  \n",
      "1  4437.126990 -12.383314  \n",
      "2  4227.221829 -12.374479  \n",
      "3  4241.795187 -12.374479  \n",
      "4  4240.120402 -12.374479  \n"
     ]
    }
   ],
   "source": [
    "# Corrected file path\n",
    "file_path = './datacsv/battery_signature_features.csv'  # Make sure this path is correct\n",
    "\n",
    "# Load the CSV file\n",
    "df = pd.read_csv(file_path)\n",
    "\n",
    "# Show the first 5 rows\n",
    "print(\"First 5 rows of the CSV file:\")\n",
    "print(df.head())"
   ]
  },
  {
   "cell_type": "code",
   "execution_count": null,
   "id": "acad8174-1b6f-4214-bf10-dcfea38a45b7",
   "metadata": {},
   "outputs": [],
   "source": []
  }
 ],
 "metadata": {
  "kernelspec": {
   "display_name": "Python 3 (ipykernel)",
   "language": "python",
   "name": "python3"
  },
  "language_info": {
   "codemirror_mode": {
    "name": "ipython",
    "version": 3
   },
   "file_extension": ".py",
   "mimetype": "text/x-python",
   "name": "python",
   "nbconvert_exporter": "python",
   "pygments_lexer": "ipython3",
   "version": "3.10.15"
  }
 },
 "nbformat": 4,
 "nbformat_minor": 5
}
